{
 "cells": [
  {
   "cell_type": "markdown",
   "metadata": {},
   "source": [
    "# Memprediksi Faktor-Faktor yang Mempengaruhi Kebahagiaan di Kawasan ASEAN Tahun 2020-2023 Menggunakan Algoritma Machine Learning"
   ]
  },
  {
   "cell_type": "markdown",
   "metadata": {},
   "source": [
    "## Ringkasan\n",
    "\n",
    "Kebahagiaan merupakan indikator penting kesejahteraan individu dan masyarakat, dengan perdebatan filosofis dari Aristoteles yang melihatnya sebagai tujuan hidup dan Socrates yang menekankan kesederhanaan.Studi terbaru dari berbagai disiplin ilmu menunjukkan bahwa kebahagiaan dipengaruhi oleh faktor internal dan eksternal, termasuk kondisi sosial, ekonomi, dan politik. Kawasan ASEAN, dengan keragaman budaya, ekonomi, dan sosialnya, menunjukkan variasi skor kebahagiaan menurut World Happiness Report, yang mempertimbangkan enam variabel utama: PDB per kapita, dukungan sosial, harapan hidup sehat, kebebasan memilih, kedermawanan, dan persepsi terhadap korupsi. Penelitian menggunakan machine learning di Asia Timur dan Vietnam menemukan bahwa faktor-faktor seperti pendapatan, status perkawinan, kesehatan, dan hubungan sosial berpengaruh signifikan terhadap kebahagiaan, menekankan pentingnya analisis yang lebih mendalam di kawasan ASEAN untuk membantu merumuskan kebijakan peningkatan kesejahteraan.\n",
    "\n",
    "\n",
    "## Permasalahan\n",
    "- \tPenelitian mengenai faktor-faktor kebahagiaan di tingkat global banyak dilakukan, namun studi yang fokus pada kawasan ASEAN masih sangat terbatas.\n",
    "- \tmenentukan faktor-faktor mana yang paling berpengaruh terhadap kebahagiaan di kawasan ASEAN\n",
    "\n",
    "## Tujuan\n",
    "-\tMengidentifikasi faktor-faktor utama yang mempengaruhi kebahagiaan di negara-negara ASEAN.\n",
    "-\tMembangun model prediksi kebahagiaan menggunakan algoritma K-Nearest Neighbors (KNN) dan Decision Tree.\n",
    "-\tMengevaluasi kinerja model untuk memastikan akurasi dan efektivitasnya dalam memprediksi kebahagiaan.\n",
    "## Alur Bagan\n",
    "Berikut alur bagan penyelasaian dari Data Handling hingga Model Evaluation :\n",
    "\n",
    "## Penjelasan Dataset\n",
    "Dataset ini merupakan dataset publik yang tersedia di Kaggle, diunggah oleh Sazidul Islam. Dataset \"World Happiness Report up to 2023\" menyediakan kumpulan data yang komprehensif dan terkini mengenai metrik kebahagiaan serta faktor-faktor yang memengaruhi kesejahteraan secara global. Dirancang untuk memberikan wawasan berharga bagi pembuat kebijakan, peneliti, dan individu yang tertarik dalam memahami dinamika kebahagiaan dan kesejahteraan di seluruh dunia. Dataset ini mencakup 9 atribut yang digunakan sebagai indikator kebahagiaan suatu negara. Sumber:https://www.kaggle.com/datasets/sazidthe1/global-happiness-scores-and-factors\n",
    "Berikut detail dari setiap atributnya:\n",
    "1. country = Nama negara. \n",
    "2. region = Wilayah geografis atau benua. \n",
    "3. happiness_score = Suatu ukuran yang mencerminkan kebahagiaan secara keseluruhan. \n",
    "4. gdp_per_capita = Ukuran Produk Domestik Bruto per kapita. \n",
    "5. social_support = Metrik yang mengukur dukungan sosial.\n",
    "6. healthy_life_expectancy = Ukuran harapan hidup sehat selama bertahun-tahun. \n",
    "7. freedom_to_make_life_choices = Sebuah ukuran kebebasan dalam memilih hidup. \n",
    "8. generosity Metrik = yang mencerminkan kemurahan hati.\n",
    "9. perceptions_of_corruption = Ukuran persepsi korupsi di suatu negara."
   ]
  },
  {
   "cell_type": "markdown",
   "metadata": {},
   "source": [
    "## EDA"
   ]
  },
  {
   "cell_type": "markdown",
   "metadata": {},
   "source": [
    "## Data Handling\n",
    "### Mengimport Library\n",
    "Mengimpor library utama dan modeling utama yaitu K-Nearest Neighbors (KNN) dan Decision Tree."
   ]
  },
  {
   "cell_type": "code",
   "execution_count": 1,
   "metadata": {},
   "outputs": [],
   "source": [
    "\n",
    "import pandas as pd\n",
    "from sklearn.preprocessing import StandardScaler\n",
    "from sklearn.model_selection import train_test_split\n",
    "from sklearn.neighbors import KNeighborsRegressor\n",
    "from sklearn.tree import DecisionTreeRegressor\n",
    "from sklearn.metrics import mean_squared_error, mean_absolute_error, r2_score\n",
    "import matplotlib.pyplot as plt\n",
    "import seaborn as sns\n",
    "from sklearn.model_selection import GridSearchCV"
   ]
  },
  {
   "cell_type": "markdown",
   "metadata": {},
   "source": [
    "### Data Collection\n",
    "Sample Data"
   ]
  },
  {
   "cell_type": "code",
   "execution_count": 2,
   "metadata": {},
   "outputs": [],
   "source": [
    "data_2020 = pd.read_csv('WHR_2020.csv')\n",
    "data_2021 = pd.read_csv('WHR_2021.csv')\n",
    "data_2022 = pd.read_csv('WHR_2022.csv')\n",
    "data_2023 = pd.read_csv('WHR_2023.csv')"
   ]
  },
  {
   "cell_type": "markdown",
   "metadata": {},
   "source": [
    "### Data Preprocessing"
   ]
  },
  {
   "cell_type": "markdown",
   "metadata": {},
   "source": [
    "Mengkelompokan Data ASIA TENGGARA (ASEAN)\n",
    "\n",
    "Brunei, Kamboja (Cambodia), Filipina (Philippines), Indonesia, Laos, Malaysia, Myanmar, Singapura(Singapore), Thailand, dan Vietnam"
   ]
  },
  {
   "cell_type": "code",
   "execution_count": 3,
   "metadata": {},
   "outputs": [],
   "source": [
    "asean_countries = [\"Brunei\", \"Cambodia\", \"Indonesia\", \"Laos\", \"Malaysia\", \"Myanmar\", \"Philippines\", \"Singapore\", \"Thailand\", \"Vietnam\"]"
   ]
  },
  {
   "cell_type": "markdown",
   "metadata": {},
   "source": [
    "Memfilter dan Menampilkan Data ASEAN 2020-2023 \n",
    "- Filter Dataset dengan menambahkan kolom tahun"
   ]
  },
  {
   "cell_type": "code",
   "execution_count": 4,
   "metadata": {},
   "outputs": [],
   "source": [
    "data_2020 = data_2020[data_2020['country'].isin(asean_countries)]\n",
    "data_2020['year'] = 2020\n",
    "\n",
    "data_2021 = data_2021[data_2021['country'].isin(asean_countries)]\n",
    "data_2021['year'] = 2021\n",
    "\n",
    "data_2022 = data_2022[data_2022['country'].isin(asean_countries)]\n",
    "data_2022['year'] = 2022\n",
    "\n",
    "data_2023 = data_2023[data_2023['country'].isin(asean_countries)]\n",
    "data_2023['year'] = 2023"
   ]
  },
  {
   "cell_type": "markdown",
   "metadata": {},
   "source": [
    "- Mengombinasikan Dataset"
   ]
  },
  {
   "cell_type": "code",
   "execution_count": 5,
   "metadata": {},
   "outputs": [],
   "source": [
    "combined_asean_data = pd.concat([ data_2020, data_2021, data_2022, data_2023])"
   ]
  },
  {
   "cell_type": "markdown",
   "metadata": {},
   "source": [
    "- Mangatasi Values yang hilang (jika ada)"
   ]
  },
  {
   "cell_type": "code",
   "execution_count": 6,
   "metadata": {},
   "outputs": [],
   "source": [
    "combined_asean_data = combined_asean_data.dropna()"
   ]
  },
  {
   "cell_type": "markdown",
   "metadata": {},
   "source": [
    "- Reset indeks untuk data gabungan"
   ]
  },
  {
   "cell_type": "code",
   "execution_count": 7,
   "metadata": {},
   "outputs": [],
   "source": [
    "combined_asean_data.reset_index(drop=True, inplace=True)"
   ]
  },
  {
   "cell_type": "markdown",
   "metadata": {},
   "source": [
    "- Menampilkan Kombinasi Data"
   ]
  },
  {
   "cell_type": "code",
   "execution_count": 8,
   "metadata": {},
   "outputs": [
    {
     "data": {
      "text/html": [
       "<div>\n",
       "<style scoped>\n",
       "    .dataframe tbody tr th:only-of-type {\n",
       "        vertical-align: middle;\n",
       "    }\n",
       "\n",
       "    .dataframe tbody tr th {\n",
       "        vertical-align: top;\n",
       "    }\n",
       "\n",
       "    .dataframe thead th {\n",
       "        text-align: right;\n",
       "    }\n",
       "</style>\n",
       "<table border=\"1\" class=\"dataframe\">\n",
       "  <thead>\n",
       "    <tr style=\"text-align: right;\">\n",
       "      <th></th>\n",
       "      <th>country</th>\n",
       "      <th>region</th>\n",
       "      <th>happiness_score</th>\n",
       "      <th>gdp_per_capita</th>\n",
       "      <th>social_support</th>\n",
       "      <th>healthy_life_expectancy</th>\n",
       "      <th>freedom_to_make_life_choices</th>\n",
       "      <th>generosity</th>\n",
       "      <th>perceptions_of_corruption</th>\n",
       "      <th>year</th>\n",
       "    </tr>\n",
       "  </thead>\n",
       "  <tbody>\n",
       "    <tr>\n",
       "      <th>0</th>\n",
       "      <td>Singapore</td>\n",
       "      <td>Southeast Asia</td>\n",
       "      <td>6.3771</td>\n",
       "      <td>1.519580</td>\n",
       "      <td>1.395457</td>\n",
       "      <td>1.137814</td>\n",
       "      <td>0.635317</td>\n",
       "      <td>0.218771</td>\n",
       "      <td>0.533162</td>\n",
       "      <td>2020</td>\n",
       "    </tr>\n",
       "    <tr>\n",
       "      <th>1</th>\n",
       "      <td>Philippines</td>\n",
       "      <td>Southeast Asia</td>\n",
       "      <td>6.0060</td>\n",
       "      <td>0.775121</td>\n",
       "      <td>1.245382</td>\n",
       "      <td>0.602189</td>\n",
       "      <td>0.621915</td>\n",
       "      <td>0.129260</td>\n",
       "      <td>0.130386</td>\n",
       "      <td>2020</td>\n",
       "    </tr>\n",
       "    <tr>\n",
       "      <th>2</th>\n",
       "      <td>Thailand</td>\n",
       "      <td>Southeast Asia</td>\n",
       "      <td>5.9988</td>\n",
       "      <td>1.007029</td>\n",
       "      <td>1.347520</td>\n",
       "      <td>0.793856</td>\n",
       "      <td>0.609450</td>\n",
       "      <td>0.376709</td>\n",
       "      <td>0.031838</td>\n",
       "      <td>2020</td>\n",
       "    </tr>\n",
       "    <tr>\n",
       "      <th>3</th>\n",
       "      <td>Malaysia</td>\n",
       "      <td>Southeast Asia</td>\n",
       "      <td>5.3843</td>\n",
       "      <td>1.168422</td>\n",
       "      <td>1.174002</td>\n",
       "      <td>0.788512</td>\n",
       "      <td>0.596942</td>\n",
       "      <td>0.274886</td>\n",
       "      <td>0.062163</td>\n",
       "      <td>2020</td>\n",
       "    </tr>\n",
       "    <tr>\n",
       "      <th>4</th>\n",
       "      <td>Vietnam</td>\n",
       "      <td>Southeast Asia</td>\n",
       "      <td>5.3535</td>\n",
       "      <td>0.718092</td>\n",
       "      <td>1.253075</td>\n",
       "      <td>0.819134</td>\n",
       "      <td>0.650836</td>\n",
       "      <td>0.136489</td>\n",
       "      <td>0.089848</td>\n",
       "      <td>2020</td>\n",
       "    </tr>\n",
       "  </tbody>\n",
       "</table>\n",
       "</div>"
      ],
      "text/plain": [
       "       country          region  happiness_score  gdp_per_capita  \\\n",
       "0    Singapore  Southeast Asia           6.3771        1.519580   \n",
       "1  Philippines  Southeast Asia           6.0060        0.775121   \n",
       "2     Thailand  Southeast Asia           5.9988        1.007029   \n",
       "3     Malaysia  Southeast Asia           5.3843        1.168422   \n",
       "4      Vietnam  Southeast Asia           5.3535        0.718092   \n",
       "\n",
       "   social_support  healthy_life_expectancy  freedom_to_make_life_choices  \\\n",
       "0        1.395457                 1.137814                      0.635317   \n",
       "1        1.245382                 0.602189                      0.621915   \n",
       "2        1.347520                 0.793856                      0.609450   \n",
       "3        1.174002                 0.788512                      0.596942   \n",
       "4        1.253075                 0.819134                      0.650836   \n",
       "\n",
       "   generosity  perceptions_of_corruption  year  \n",
       "0    0.218771                   0.533162  2020  \n",
       "1    0.129260                   0.130386  2020  \n",
       "2    0.376709                   0.031838  2020  \n",
       "3    0.274886                   0.062163  2020  \n",
       "4    0.136489                   0.089848  2020  "
      ]
     },
     "execution_count": 8,
     "metadata": {},
     "output_type": "execute_result"
    }
   ],
   "source": [
    "combined_asean_data.head()"
   ]
  },
  {
   "cell_type": "code",
   "execution_count": 9,
   "metadata": {},
   "outputs": [
    {
     "data": {
      "text/html": [
       "<div>\n",
       "<style scoped>\n",
       "    .dataframe tbody tr th:only-of-type {\n",
       "        vertical-align: middle;\n",
       "    }\n",
       "\n",
       "    .dataframe tbody tr th {\n",
       "        vertical-align: top;\n",
       "    }\n",
       "\n",
       "    .dataframe thead th {\n",
       "        text-align: right;\n",
       "    }\n",
       "</style>\n",
       "<table border=\"1\" class=\"dataframe\">\n",
       "  <thead>\n",
       "    <tr style=\"text-align: right;\">\n",
       "      <th></th>\n",
       "      <th>country</th>\n",
       "      <th>region</th>\n",
       "      <th>happiness_score</th>\n",
       "      <th>gdp_per_capita</th>\n",
       "      <th>social_support</th>\n",
       "      <th>healthy_life_expectancy</th>\n",
       "      <th>freedom_to_make_life_choices</th>\n",
       "      <th>generosity</th>\n",
       "      <th>perceptions_of_corruption</th>\n",
       "      <th>year</th>\n",
       "    </tr>\n",
       "  </thead>\n",
       "  <tbody>\n",
       "    <tr>\n",
       "      <th>31</th>\n",
       "      <td>Philippines</td>\n",
       "      <td>Southeast Asia</td>\n",
       "      <td>5.523</td>\n",
       "      <td>1.238</td>\n",
       "      <td>1.108</td>\n",
       "      <td>0.286</td>\n",
       "      <td>0.714</td>\n",
       "      <td>0.104</td>\n",
       "      <td>0.141</td>\n",
       "      <td>2023</td>\n",
       "    </tr>\n",
       "    <tr>\n",
       "      <th>32</th>\n",
       "      <td>Indonesia</td>\n",
       "      <td>Southeast Asia</td>\n",
       "      <td>5.277</td>\n",
       "      <td>1.384</td>\n",
       "      <td>1.169</td>\n",
       "      <td>0.314</td>\n",
       "      <td>0.663</td>\n",
       "      <td>0.422</td>\n",
       "      <td>0.038</td>\n",
       "      <td>2023</td>\n",
       "    </tr>\n",
       "    <tr>\n",
       "      <th>33</th>\n",
       "      <td>Laos</td>\n",
       "      <td>Southeast Asia</td>\n",
       "      <td>5.111</td>\n",
       "      <td>1.232</td>\n",
       "      <td>0.853</td>\n",
       "      <td>0.257</td>\n",
       "      <td>0.715</td>\n",
       "      <td>0.185</td>\n",
       "      <td>0.162</td>\n",
       "      <td>2023</td>\n",
       "    </tr>\n",
       "    <tr>\n",
       "      <th>34</th>\n",
       "      <td>Cambodia</td>\n",
       "      <td>Southeast Asia</td>\n",
       "      <td>4.393</td>\n",
       "      <td>1.025</td>\n",
       "      <td>1.024</td>\n",
       "      <td>0.283</td>\n",
       "      <td>0.768</td>\n",
       "      <td>0.176</td>\n",
       "      <td>0.051</td>\n",
       "      <td>2023</td>\n",
       "    </tr>\n",
       "    <tr>\n",
       "      <th>35</th>\n",
       "      <td>Myanmar</td>\n",
       "      <td>Southeast Asia</td>\n",
       "      <td>4.372</td>\n",
       "      <td>1.032</td>\n",
       "      <td>1.125</td>\n",
       "      <td>0.269</td>\n",
       "      <td>0.460</td>\n",
       "      <td>0.400</td>\n",
       "      <td>0.194</td>\n",
       "      <td>2023</td>\n",
       "    </tr>\n",
       "  </tbody>\n",
       "</table>\n",
       "</div>"
      ],
      "text/plain": [
       "        country          region  happiness_score  gdp_per_capita  \\\n",
       "31  Philippines  Southeast Asia            5.523           1.238   \n",
       "32    Indonesia  Southeast Asia            5.277           1.384   \n",
       "33         Laos  Southeast Asia            5.111           1.232   \n",
       "34     Cambodia  Southeast Asia            4.393           1.025   \n",
       "35      Myanmar  Southeast Asia            4.372           1.032   \n",
       "\n",
       "    social_support  healthy_life_expectancy  freedom_to_make_life_choices  \\\n",
       "31           1.108                    0.286                         0.714   \n",
       "32           1.169                    0.314                         0.663   \n",
       "33           0.853                    0.257                         0.715   \n",
       "34           1.024                    0.283                         0.768   \n",
       "35           1.125                    0.269                         0.460   \n",
       "\n",
       "    generosity  perceptions_of_corruption  year  \n",
       "31       0.104                      0.141  2023  \n",
       "32       0.422                      0.038  2023  \n",
       "33       0.185                      0.162  2023  \n",
       "34       0.176                      0.051  2023  \n",
       "35       0.400                      0.194  2023  "
      ]
     },
     "execution_count": 9,
     "metadata": {},
     "output_type": "execute_result"
    }
   ],
   "source": [
    "combined_asean_data.tail()"
   ]
  },
  {
   "cell_type": "code",
   "execution_count": 10,
   "metadata": {},
   "outputs": [
    {
     "data": {
      "text/html": [
       "<div>\n",
       "<style scoped>\n",
       "    .dataframe tbody tr th:only-of-type {\n",
       "        vertical-align: middle;\n",
       "    }\n",
       "\n",
       "    .dataframe tbody tr th {\n",
       "        vertical-align: top;\n",
       "    }\n",
       "\n",
       "    .dataframe thead th {\n",
       "        text-align: right;\n",
       "    }\n",
       "</style>\n",
       "<table border=\"1\" class=\"dataframe\">\n",
       "  <thead>\n",
       "    <tr style=\"text-align: right;\">\n",
       "      <th></th>\n",
       "      <th>country</th>\n",
       "      <th>region</th>\n",
       "      <th>happiness_score</th>\n",
       "      <th>gdp_per_capita</th>\n",
       "      <th>social_support</th>\n",
       "      <th>healthy_life_expectancy</th>\n",
       "      <th>freedom_to_make_life_choices</th>\n",
       "      <th>generosity</th>\n",
       "      <th>perceptions_of_corruption</th>\n",
       "      <th>year</th>\n",
       "    </tr>\n",
       "  </thead>\n",
       "  <tbody>\n",
       "    <tr>\n",
       "      <th>17</th>\n",
       "      <td>Myanmar</td>\n",
       "      <td>Southeast Asia</td>\n",
       "      <td>4.4260</td>\n",
       "      <td>0.666000</td>\n",
       "      <td>0.713000</td>\n",
       "      <td>0.341000</td>\n",
       "      <td>0.601000</td>\n",
       "      <td>0.520000</td>\n",
       "      <td>0.178000</td>\n",
       "      <td>2021</td>\n",
       "    </tr>\n",
       "    <tr>\n",
       "      <th>6</th>\n",
       "      <td>Laos</td>\n",
       "      <td>Southeast Asia</td>\n",
       "      <td>4.8886</td>\n",
       "      <td>0.714694</td>\n",
       "      <td>0.987392</td>\n",
       "      <td>0.486378</td>\n",
       "      <td>0.612027</td>\n",
       "      <td>0.272667</td>\n",
       "      <td>0.194274</td>\n",
       "      <td>2020</td>\n",
       "    </tr>\n",
       "    <tr>\n",
       "      <th>23</th>\n",
       "      <td>Indonesia</td>\n",
       "      <td>Southeast Asia</td>\n",
       "      <td>5.2400</td>\n",
       "      <td>1.382000</td>\n",
       "      <td>0.883000</td>\n",
       "      <td>0.539000</td>\n",
       "      <td>0.620000</td>\n",
       "      <td>0.468000</td>\n",
       "      <td>0.047000</td>\n",
       "      <td>2022</td>\n",
       "    </tr>\n",
       "    <tr>\n",
       "      <th>10</th>\n",
       "      <td>Thailand</td>\n",
       "      <td>Southeast Asia</td>\n",
       "      <td>5.9850</td>\n",
       "      <td>1.107000</td>\n",
       "      <td>0.957000</td>\n",
       "      <td>0.596000</td>\n",
       "      <td>0.611000</td>\n",
       "      <td>0.375000</td>\n",
       "      <td>0.028000</td>\n",
       "      <td>2021</td>\n",
       "    </tr>\n",
       "    <tr>\n",
       "      <th>31</th>\n",
       "      <td>Philippines</td>\n",
       "      <td>Southeast Asia</td>\n",
       "      <td>5.5230</td>\n",
       "      <td>1.238000</td>\n",
       "      <td>1.108000</td>\n",
       "      <td>0.286000</td>\n",
       "      <td>0.714000</td>\n",
       "      <td>0.104000</td>\n",
       "      <td>0.141000</td>\n",
       "      <td>2023</td>\n",
       "    </tr>\n",
       "    <tr>\n",
       "      <th>20</th>\n",
       "      <td>Thailand</td>\n",
       "      <td>Southeast Asia</td>\n",
       "      <td>5.8910</td>\n",
       "      <td>1.535000</td>\n",
       "      <td>1.096000</td>\n",
       "      <td>0.697000</td>\n",
       "      <td>0.617000</td>\n",
       "      <td>0.321000</td>\n",
       "      <td>0.026000</td>\n",
       "      <td>2022</td>\n",
       "    </tr>\n",
       "    <tr>\n",
       "      <th>15</th>\n",
       "      <td>Laos</td>\n",
       "      <td>Southeast Asia</td>\n",
       "      <td>5.0300</td>\n",
       "      <td>0.808000</td>\n",
       "      <td>0.598000</td>\n",
       "      <td>0.330000</td>\n",
       "      <td>0.643000</td>\n",
       "      <td>0.268000</td>\n",
       "      <td>0.179000</td>\n",
       "      <td>2021</td>\n",
       "    </tr>\n",
       "    <tr>\n",
       "      <th>22</th>\n",
       "      <td>Vietnam</td>\n",
       "      <td>Southeast Asia</td>\n",
       "      <td>5.4850</td>\n",
       "      <td>1.252000</td>\n",
       "      <td>0.932000</td>\n",
       "      <td>0.611000</td>\n",
       "      <td>0.707000</td>\n",
       "      <td>0.143000</td>\n",
       "      <td>0.105000</td>\n",
       "      <td>2022</td>\n",
       "    </tr>\n",
       "    <tr>\n",
       "      <th>19</th>\n",
       "      <td>Philippines</td>\n",
       "      <td>Southeast Asia</td>\n",
       "      <td>5.9040</td>\n",
       "      <td>1.268000</td>\n",
       "      <td>0.912000</td>\n",
       "      <td>0.514000</td>\n",
       "      <td>0.678000</td>\n",
       "      <td>0.107000</td>\n",
       "      <td>0.142000</td>\n",
       "      <td>2022</td>\n",
       "    </tr>\n",
       "    <tr>\n",
       "      <th>3</th>\n",
       "      <td>Malaysia</td>\n",
       "      <td>Southeast Asia</td>\n",
       "      <td>5.3843</td>\n",
       "      <td>1.168422</td>\n",
       "      <td>1.174002</td>\n",
       "      <td>0.788512</td>\n",
       "      <td>0.596942</td>\n",
       "      <td>0.274886</td>\n",
       "      <td>0.062163</td>\n",
       "      <td>2020</td>\n",
       "    </tr>\n",
       "    <tr>\n",
       "      <th>7</th>\n",
       "      <td>Cambodia</td>\n",
       "      <td>Southeast Asia</td>\n",
       "      <td>4.8484</td>\n",
       "      <td>0.544635</td>\n",
       "      <td>1.071426</td>\n",
       "      <td>0.587904</td>\n",
       "      <td>0.674940</td>\n",
       "      <td>0.233342</td>\n",
       "      <td>0.072838</td>\n",
       "      <td>2020</td>\n",
       "    </tr>\n",
       "    <tr>\n",
       "      <th>25</th>\n",
       "      <td>Cambodia</td>\n",
       "      <td>Southeast Asia</td>\n",
       "      <td>4.6400</td>\n",
       "      <td>1.019000</td>\n",
       "      <td>0.732000</td>\n",
       "      <td>0.505000</td>\n",
       "      <td>0.740000</td>\n",
       "      <td>0.166000</td>\n",
       "      <td>0.068000</td>\n",
       "      <td>2022</td>\n",
       "    </tr>\n",
       "    <tr>\n",
       "      <th>29</th>\n",
       "      <td>Thailand</td>\n",
       "      <td>Southeast Asia</td>\n",
       "      <td>5.8430</td>\n",
       "      <td>1.515000</td>\n",
       "      <td>1.344000</td>\n",
       "      <td>0.461000</td>\n",
       "      <td>0.624000</td>\n",
       "      <td>0.291000</td>\n",
       "      <td>0.013000</td>\n",
       "      <td>2023</td>\n",
       "    </tr>\n",
       "    <tr>\n",
       "      <th>18</th>\n",
       "      <td>Singapore</td>\n",
       "      <td>Southeast Asia</td>\n",
       "      <td>6.4800</td>\n",
       "      <td>2.149000</td>\n",
       "      <td>1.127000</td>\n",
       "      <td>0.851000</td>\n",
       "      <td>0.672000</td>\n",
       "      <td>0.163000</td>\n",
       "      <td>0.587000</td>\n",
       "      <td>2022</td>\n",
       "    </tr>\n",
       "    <tr>\n",
       "      <th>30</th>\n",
       "      <td>Vietnam</td>\n",
       "      <td>Southeast Asia</td>\n",
       "      <td>5.7630</td>\n",
       "      <td>1.349000</td>\n",
       "      <td>1.212000</td>\n",
       "      <td>0.381000</td>\n",
       "      <td>0.741000</td>\n",
       "      <td>0.134000</td>\n",
       "      <td>0.122000</td>\n",
       "      <td>2023</td>\n",
       "    </tr>\n",
       "    <tr>\n",
       "      <th>27</th>\n",
       "      <td>Singapore</td>\n",
       "      <td>Southeast Asia</td>\n",
       "      <td>6.5870</td>\n",
       "      <td>2.168000</td>\n",
       "      <td>1.354000</td>\n",
       "      <td>0.607000</td>\n",
       "      <td>0.660000</td>\n",
       "      <td>0.170000</td>\n",
       "      <td>0.561000</td>\n",
       "      <td>2023</td>\n",
       "    </tr>\n",
       "    <tr>\n",
       "      <th>32</th>\n",
       "      <td>Indonesia</td>\n",
       "      <td>Southeast Asia</td>\n",
       "      <td>5.2770</td>\n",
       "      <td>1.384000</td>\n",
       "      <td>1.169000</td>\n",
       "      <td>0.314000</td>\n",
       "      <td>0.663000</td>\n",
       "      <td>0.422000</td>\n",
       "      <td>0.038000</td>\n",
       "      <td>2023</td>\n",
       "    </tr>\n",
       "    <tr>\n",
       "      <th>2</th>\n",
       "      <td>Thailand</td>\n",
       "      <td>Southeast Asia</td>\n",
       "      <td>5.9988</td>\n",
       "      <td>1.007029</td>\n",
       "      <td>1.347520</td>\n",
       "      <td>0.793856</td>\n",
       "      <td>0.609450</td>\n",
       "      <td>0.376709</td>\n",
       "      <td>0.031838</td>\n",
       "      <td>2020</td>\n",
       "    </tr>\n",
       "    <tr>\n",
       "      <th>21</th>\n",
       "      <td>Malaysia</td>\n",
       "      <td>Southeast Asia</td>\n",
       "      <td>5.7110</td>\n",
       "      <td>1.689000</td>\n",
       "      <td>0.938000</td>\n",
       "      <td>0.620000</td>\n",
       "      <td>0.654000</td>\n",
       "      <td>0.213000</td>\n",
       "      <td>0.126000</td>\n",
       "      <td>2022</td>\n",
       "    </tr>\n",
       "    <tr>\n",
       "      <th>8</th>\n",
       "      <td>Myanmar</td>\n",
       "      <td>Southeast Asia</td>\n",
       "      <td>4.3080</td>\n",
       "      <td>0.678091</td>\n",
       "      <td>1.098178</td>\n",
       "      <td>0.495443</td>\n",
       "      <td>0.597479</td>\n",
       "      <td>0.569814</td>\n",
       "      <td>0.187530</td>\n",
       "      <td>2020</td>\n",
       "    </tr>\n",
       "    <tr>\n",
       "      <th>26</th>\n",
       "      <td>Myanmar</td>\n",
       "      <td>Southeast Asia</td>\n",
       "      <td>4.3940</td>\n",
       "      <td>1.038000</td>\n",
       "      <td>0.829000</td>\n",
       "      <td>0.491000</td>\n",
       "      <td>0.513000</td>\n",
       "      <td>0.452000</td>\n",
       "      <td>0.194000</td>\n",
       "      <td>2022</td>\n",
       "    </tr>\n",
       "    <tr>\n",
       "      <th>11</th>\n",
       "      <td>Philippines</td>\n",
       "      <td>Southeast Asia</td>\n",
       "      <td>5.8800</td>\n",
       "      <td>0.853000</td>\n",
       "      <td>0.828000</td>\n",
       "      <td>0.426000</td>\n",
       "      <td>0.651000</td>\n",
       "      <td>0.125000</td>\n",
       "      <td>0.126000</td>\n",
       "      <td>2021</td>\n",
       "    </tr>\n",
       "    <tr>\n",
       "      <th>4</th>\n",
       "      <td>Vietnam</td>\n",
       "      <td>Southeast Asia</td>\n",
       "      <td>5.3535</td>\n",
       "      <td>0.718092</td>\n",
       "      <td>1.253075</td>\n",
       "      <td>0.819134</td>\n",
       "      <td>0.650836</td>\n",
       "      <td>0.136489</td>\n",
       "      <td>0.089848</td>\n",
       "      <td>2020</td>\n",
       "    </tr>\n",
       "    <tr>\n",
       "      <th>34</th>\n",
       "      <td>Cambodia</td>\n",
       "      <td>Southeast Asia</td>\n",
       "      <td>4.3930</td>\n",
       "      <td>1.025000</td>\n",
       "      <td>1.024000</td>\n",
       "      <td>0.283000</td>\n",
       "      <td>0.768000</td>\n",
       "      <td>0.176000</td>\n",
       "      <td>0.051000</td>\n",
       "      <td>2023</td>\n",
       "    </tr>\n",
       "    <tr>\n",
       "      <th>33</th>\n",
       "      <td>Laos</td>\n",
       "      <td>Southeast Asia</td>\n",
       "      <td>5.1110</td>\n",
       "      <td>1.232000</td>\n",
       "      <td>0.853000</td>\n",
       "      <td>0.257000</td>\n",
       "      <td>0.715000</td>\n",
       "      <td>0.185000</td>\n",
       "      <td>0.162000</td>\n",
       "      <td>2023</td>\n",
       "    </tr>\n",
       "    <tr>\n",
       "      <th>16</th>\n",
       "      <td>Cambodia</td>\n",
       "      <td>Southeast Asia</td>\n",
       "      <td>4.8300</td>\n",
       "      <td>0.603000</td>\n",
       "      <td>0.680000</td>\n",
       "      <td>0.426000</td>\n",
       "      <td>0.702000</td>\n",
       "      <td>0.210000</td>\n",
       "      <td>0.061000</td>\n",
       "      <td>2021</td>\n",
       "    </tr>\n",
       "    <tr>\n",
       "      <th>24</th>\n",
       "      <td>Laos</td>\n",
       "      <td>Southeast Asia</td>\n",
       "      <td>5.1400</td>\n",
       "      <td>1.239000</td>\n",
       "      <td>0.654000</td>\n",
       "      <td>0.479000</td>\n",
       "      <td>0.679000</td>\n",
       "      <td>0.197000</td>\n",
       "      <td>0.184000</td>\n",
       "      <td>2022</td>\n",
       "    </tr>\n",
       "    <tr>\n",
       "      <th>35</th>\n",
       "      <td>Myanmar</td>\n",
       "      <td>Southeast Asia</td>\n",
       "      <td>4.3720</td>\n",
       "      <td>1.032000</td>\n",
       "      <td>1.125000</td>\n",
       "      <td>0.269000</td>\n",
       "      <td>0.460000</td>\n",
       "      <td>0.400000</td>\n",
       "      <td>0.194000</td>\n",
       "      <td>2023</td>\n",
       "    </tr>\n",
       "    <tr>\n",
       "      <th>9</th>\n",
       "      <td>Singapore</td>\n",
       "      <td>Southeast Asia</td>\n",
       "      <td>6.3770</td>\n",
       "      <td>1.695000</td>\n",
       "      <td>1.019000</td>\n",
       "      <td>0.897000</td>\n",
       "      <td>0.664000</td>\n",
       "      <td>0.176000</td>\n",
       "      <td>0.547000</td>\n",
       "      <td>2021</td>\n",
       "    </tr>\n",
       "    <tr>\n",
       "      <th>28</th>\n",
       "      <td>Malaysia</td>\n",
       "      <td>Southeast Asia</td>\n",
       "      <td>6.0120</td>\n",
       "      <td>1.665000</td>\n",
       "      <td>1.155000</td>\n",
       "      <td>0.385000</td>\n",
       "      <td>0.659000</td>\n",
       "      <td>0.222000</td>\n",
       "      <td>0.122000</td>\n",
       "      <td>2023</td>\n",
       "    </tr>\n",
       "  </tbody>\n",
       "</table>\n",
       "</div>"
      ],
      "text/plain": [
       "        country          region  happiness_score  gdp_per_capita  \\\n",
       "17      Myanmar  Southeast Asia           4.4260        0.666000   \n",
       "6          Laos  Southeast Asia           4.8886        0.714694   \n",
       "23    Indonesia  Southeast Asia           5.2400        1.382000   \n",
       "10     Thailand  Southeast Asia           5.9850        1.107000   \n",
       "31  Philippines  Southeast Asia           5.5230        1.238000   \n",
       "20     Thailand  Southeast Asia           5.8910        1.535000   \n",
       "15         Laos  Southeast Asia           5.0300        0.808000   \n",
       "22      Vietnam  Southeast Asia           5.4850        1.252000   \n",
       "19  Philippines  Southeast Asia           5.9040        1.268000   \n",
       "3      Malaysia  Southeast Asia           5.3843        1.168422   \n",
       "7      Cambodia  Southeast Asia           4.8484        0.544635   \n",
       "25     Cambodia  Southeast Asia           4.6400        1.019000   \n",
       "29     Thailand  Southeast Asia           5.8430        1.515000   \n",
       "18    Singapore  Southeast Asia           6.4800        2.149000   \n",
       "30      Vietnam  Southeast Asia           5.7630        1.349000   \n",
       "27    Singapore  Southeast Asia           6.5870        2.168000   \n",
       "32    Indonesia  Southeast Asia           5.2770        1.384000   \n",
       "2      Thailand  Southeast Asia           5.9988        1.007029   \n",
       "21     Malaysia  Southeast Asia           5.7110        1.689000   \n",
       "8       Myanmar  Southeast Asia           4.3080        0.678091   \n",
       "26      Myanmar  Southeast Asia           4.3940        1.038000   \n",
       "11  Philippines  Southeast Asia           5.8800        0.853000   \n",
       "4       Vietnam  Southeast Asia           5.3535        0.718092   \n",
       "34     Cambodia  Southeast Asia           4.3930        1.025000   \n",
       "33         Laos  Southeast Asia           5.1110        1.232000   \n",
       "16     Cambodia  Southeast Asia           4.8300        0.603000   \n",
       "24         Laos  Southeast Asia           5.1400        1.239000   \n",
       "35      Myanmar  Southeast Asia           4.3720        1.032000   \n",
       "9     Singapore  Southeast Asia           6.3770        1.695000   \n",
       "28     Malaysia  Southeast Asia           6.0120        1.665000   \n",
       "\n",
       "    social_support  healthy_life_expectancy  freedom_to_make_life_choices  \\\n",
       "17        0.713000                 0.341000                      0.601000   \n",
       "6         0.987392                 0.486378                      0.612027   \n",
       "23        0.883000                 0.539000                      0.620000   \n",
       "10        0.957000                 0.596000                      0.611000   \n",
       "31        1.108000                 0.286000                      0.714000   \n",
       "20        1.096000                 0.697000                      0.617000   \n",
       "15        0.598000                 0.330000                      0.643000   \n",
       "22        0.932000                 0.611000                      0.707000   \n",
       "19        0.912000                 0.514000                      0.678000   \n",
       "3         1.174002                 0.788512                      0.596942   \n",
       "7         1.071426                 0.587904                      0.674940   \n",
       "25        0.732000                 0.505000                      0.740000   \n",
       "29        1.344000                 0.461000                      0.624000   \n",
       "18        1.127000                 0.851000                      0.672000   \n",
       "30        1.212000                 0.381000                      0.741000   \n",
       "27        1.354000                 0.607000                      0.660000   \n",
       "32        1.169000                 0.314000                      0.663000   \n",
       "2         1.347520                 0.793856                      0.609450   \n",
       "21        0.938000                 0.620000                      0.654000   \n",
       "8         1.098178                 0.495443                      0.597479   \n",
       "26        0.829000                 0.491000                      0.513000   \n",
       "11        0.828000                 0.426000                      0.651000   \n",
       "4         1.253075                 0.819134                      0.650836   \n",
       "34        1.024000                 0.283000                      0.768000   \n",
       "33        0.853000                 0.257000                      0.715000   \n",
       "16        0.680000                 0.426000                      0.702000   \n",
       "24        0.654000                 0.479000                      0.679000   \n",
       "35        1.125000                 0.269000                      0.460000   \n",
       "9         1.019000                 0.897000                      0.664000   \n",
       "28        1.155000                 0.385000                      0.659000   \n",
       "\n",
       "    generosity  perceptions_of_corruption  year  \n",
       "17    0.520000                   0.178000  2021  \n",
       "6     0.272667                   0.194274  2020  \n",
       "23    0.468000                   0.047000  2022  \n",
       "10    0.375000                   0.028000  2021  \n",
       "31    0.104000                   0.141000  2023  \n",
       "20    0.321000                   0.026000  2022  \n",
       "15    0.268000                   0.179000  2021  \n",
       "22    0.143000                   0.105000  2022  \n",
       "19    0.107000                   0.142000  2022  \n",
       "3     0.274886                   0.062163  2020  \n",
       "7     0.233342                   0.072838  2020  \n",
       "25    0.166000                   0.068000  2022  \n",
       "29    0.291000                   0.013000  2023  \n",
       "18    0.163000                   0.587000  2022  \n",
       "30    0.134000                   0.122000  2023  \n",
       "27    0.170000                   0.561000  2023  \n",
       "32    0.422000                   0.038000  2023  \n",
       "2     0.376709                   0.031838  2020  \n",
       "21    0.213000                   0.126000  2022  \n",
       "8     0.569814                   0.187530  2020  \n",
       "26    0.452000                   0.194000  2022  \n",
       "11    0.125000                   0.126000  2021  \n",
       "4     0.136489                   0.089848  2020  \n",
       "34    0.176000                   0.051000  2023  \n",
       "33    0.185000                   0.162000  2023  \n",
       "16    0.210000                   0.061000  2021  \n",
       "24    0.197000                   0.184000  2022  \n",
       "35    0.400000                   0.194000  2023  \n",
       "9     0.176000                   0.547000  2021  \n",
       "28    0.222000                   0.122000  2023  "
      ]
     },
     "execution_count": 10,
     "metadata": {},
     "output_type": "execute_result"
    }
   ],
   "source": [
    "combined_asean_data.sample(30)"
   ]
  },
  {
   "cell_type": "markdown",
   "metadata": {},
   "source": [
    "Melihat Keunikan tiap kolom dari Data ASEAN 2020-2023"
   ]
  },
  {
   "cell_type": "code",
   "execution_count": 11,
   "metadata": {},
   "outputs": [
    {
     "name": "stdout",
     "output_type": "stream",
     "text": [
      "country ['Singapore' 'Philippines' 'Thailand' 'Malaysia' 'Vietnam' 'Indonesia'\n",
      " 'Laos' 'Cambodia' 'Myanmar']\n",
      "region ['Southeast Asia']\n",
      "happiness_score [6.37709999 6.00600004 5.9987998  5.38430023 5.35349989 5.28560018\n",
      " 4.88859987 4.84840012 4.30800009 6.377      5.985      5.88\n",
      " 5.411      5.384      5.345      5.03       4.83       4.426\n",
      " 6.48       5.904      5.891      5.711      5.485      5.24\n",
      " 5.14       4.64       4.394      6.587      6.012      5.843\n",
      " 5.763      5.523      5.277      5.111      4.393      4.372     ]\n",
      "gdp_per_capita [1.51958013 0.77512068 1.00702929 1.16842163 0.71809238 0.89172071\n",
      " 0.71469384 0.54463494 0.67809093 1.695      1.107      0.853\n",
      " 0.817      1.259      0.954      0.808      0.603      0.666\n",
      " 2.149      1.268      1.535      1.689      1.252      1.382\n",
      " 1.239      1.019      1.038      2.168      1.665      1.515\n",
      " 1.349      1.238      1.384      1.232      1.025      1.032     ]\n",
      "social_support [1.39545691 1.24538171 1.34751952 1.17400229 1.25307477 1.15480089\n",
      " 0.98739189 1.07142603 1.09817827 1.019      0.957      0.828\n",
      " 0.873      0.797      0.786      0.598      0.68       0.713\n",
      " 1.127      0.912      1.096      0.938      0.932      0.883\n",
      " 0.654      0.732      0.829      1.354      1.155      1.344\n",
      " 1.212      1.108      1.169      0.853      1.024      1.125     ]\n",
      "healthy_life_expectancy [1.13781428 0.60218948 0.79385585 0.78851187 0.819134   0.61043704\n",
      " 0.48637828 0.58790433 0.49544308 0.897      0.596      0.426\n",
      " 0.616      0.587      0.433      0.33       0.341      0.851\n",
      " 0.514      0.697      0.62       0.611      0.539      0.479\n",
      " 0.505      0.491      0.607      0.385      0.461      0.381\n",
      " 0.286      0.314      0.257      0.283      0.269     ]\n",
      "freedom_to_make_life_choices [0.63531721 0.62191516 0.6094498  0.59694153 0.65083557 0.56816143\n",
      " 0.61202729 0.67494035 0.59747887 0.664      0.611      0.651\n",
      " 0.679      0.624      0.598      0.643      0.702      0.601\n",
      " 0.672      0.678      0.617      0.654      0.707      0.62\n",
      " 0.74       0.513      0.66       0.659      0.741      0.714\n",
      " 0.663      0.715      0.768      0.46      ]\n",
      "generosity [0.21877091 0.12926021 0.37670901 0.27488616 0.13648872 0.54264653\n",
      " 0.27266711 0.23334208 0.56981373 0.176      0.375      0.125\n",
      " 0.124      0.27       0.541      0.268      0.21       0.52\n",
      " 0.163      0.107      0.321      0.213      0.143      0.468\n",
      " 0.197      0.166      0.452      0.17       0.222      0.291\n",
      " 0.134      0.104      0.422      0.185      0.4       ]\n",
      "perceptions_of_corruption [0.53316224 0.13038573 0.03183786 0.06216313 0.08984846 0.03827861\n",
      " 0.19427396 0.0728375  0.18753035 0.547      0.028      0.126\n",
      " 0.091      0.064      0.046      0.179      0.061      0.178\n",
      " 0.587      0.142      0.026      0.105      0.047      0.184\n",
      " 0.068      0.194      0.561      0.122      0.013      0.141\n",
      " 0.038      0.162      0.051     ]\n",
      "year [2020 2021 2022 2023]\n"
     ]
    }
   ],
   "source": [
    "for col in combined_asean_data:\n",
    "    print(col, combined_asean_data[col].unique())"
   ]
  },
  {
   "cell_type": "markdown",
   "metadata": {},
   "source": [
    "Melihat total Data Kosong"
   ]
  },
  {
   "cell_type": "code",
   "execution_count": 12,
   "metadata": {},
   "outputs": [
    {
     "data": {
      "text/plain": [
       "country                         0\n",
       "region                          0\n",
       "happiness_score                 0\n",
       "gdp_per_capita                  0\n",
       "social_support                  0\n",
       "healthy_life_expectancy         0\n",
       "freedom_to_make_life_choices    0\n",
       "generosity                      0\n",
       "perceptions_of_corruption       0\n",
       "year                            0\n",
       "dtype: int64"
      ]
     },
     "execution_count": 12,
     "metadata": {},
     "output_type": "execute_result"
    }
   ],
   "source": [
    "combined_asean_data.isna().sum()"
   ]
  },
  {
   "cell_type": "markdown",
   "metadata": {},
   "source": [
    "Fitur dan variabel target"
   ]
  },
  {
   "cell_type": "code",
   "execution_count": 13,
   "metadata": {},
   "outputs": [
    {
     "name": "stdout",
     "output_type": "stream",
     "text": [
      "(36, 7) (36,)\n"
     ]
    }
   ],
   "source": [
    "features = ['gdp_per_capita', 'social_support', 'healthy_life_expectancy', 'freedom_to_make_life_choices', 'generosity', 'perceptions_of_corruption', 'year']\n",
    "target = 'happiness_score'\n",
    "\n",
    "X = combined_asean_data[features]\n",
    "y = combined_asean_data[target]\n",
    "\n",
    "print(X.shape, y.shape)"
   ]
  },
  {
   "cell_type": "markdown",
   "metadata": {},
   "source": [
    "Normalize the features"
   ]
  },
  {
   "cell_type": "code",
   "execution_count": 14,
   "metadata": {},
   "outputs": [],
   "source": [
    "scaler = StandardScaler()\n",
    "X_scaled = scaler.fit_transform(X)"
   ]
  },
  {
   "cell_type": "markdown",
   "metadata": {},
   "source": [
    "Kolerasi dari happiness_score dengan combined_asean_data"
   ]
  },
  {
   "cell_type": "code",
   "execution_count": 15,
   "metadata": {},
   "outputs": [
    {
     "name": "stdout",
     "output_type": "stream",
     "text": [
      "happiness_score                 1.000000\n",
      "gdp_per_capita                  0.678488\n",
      "healthy_life_expectancy         0.566855\n",
      "social_support                  0.487133\n",
      "perceptions_of_corruption       0.433528\n",
      "freedom_to_make_life_choices    0.172359\n",
      "year                            0.029920\n",
      "generosity                     -0.415233\n",
      "Name: happiness_score, dtype: float64\n"
     ]
    },
    {
     "data": {
      "image/png": "[encoded data removed]",
      "text/plain": [
       "<Figure size 1200x800 with 2 Axes>"
      ]
     },
     "metadata": {},
     "output_type": "display_data"
    }
   ],
   "source": [
    "numeric_df = combined_asean_data.select_dtypes(include=[float, int])\n",
    "\n",
    "# Menghitung matriks korelasi\n",
    "correlation_matrix = numeric_df.corr()\n",
    "\n",
    "# Menampilkan korelasi antara fitur dan target\n",
    "if 'happiness_score' in numeric_df.columns:\n",
    "    print(correlation_matrix['happiness_score'].sort_values(ascending=False))\n",
    "else:\n",
    "    print(\"Kolom 'happiness_score' tidak ditemukan dalam data numerik.\")\n",
    "    \n",
    "\n",
    "plt.figure(figsize=(12, 8))\n",
    "sns.heatmap(correlation_matrix, annot=True, cmap='coolwarm', fmt='.2f', vmin=-1, vmax=1)\n",
    "plt.title('Matriks Korelasi')\n",
    "plt.show()"
   ]
  },
  {
   "cell_type": "markdown",
   "metadata": {},
   "source": [
    "### Data Splitting"
   ]
  },
  {
   "cell_type": "markdown",
   "metadata": {},
   "source": [
    "Pisahkan data menjadi set pelatihan dan pengujian"
   ]
  },
  {
   "cell_type": "code",
   "execution_count": 16,
   "metadata": {},
   "outputs": [
    {
     "name": "stdout",
     "output_type": "stream",
     "text": [
      "(28, 7) (28,) (8, 7) (8,)\n"
     ]
    }
   ],
   "source": [
    "X_train, X_test, y_train, y_test = train_test_split(X_scaled, y, test_size=0.2, random_state=42)\n",
    "print(X_train.shape, y_train.shape, X_test.shape, y_test.shape)"
   ]
  },
  {
   "cell_type": "markdown",
   "metadata": {},
   "source": [
    "## Machine Learning Modeling dan Model Evaluation\n",
    "### Model Training"
   ]
  },
  {
   "cell_type": "markdown",
   "metadata": {},
   "source": [
    "KKN Modeling"
   ]
  },
  {
   "cell_type": "code",
   "execution_count": 17,
   "metadata": {},
   "outputs": [],
   "source": [
    "knn_model = KNeighborsRegressor(n_neighbors=5, weights='uniform')\n",
    "knn_model.fit(X_train, y_train)\n",
    "y_pred_knn = knn_model.predict(X_test)"
   ]
  },
  {
   "cell_type": "markdown",
   "metadata": {},
   "source": [
    "Train Decision Tree Modeling"
   ]
  },
  {
   "cell_type": "code",
   "execution_count": 18,
   "metadata": {},
   "outputs": [],
   "source": [
    "dt_model = DecisionTreeRegressor(random_state=42)\n",
    "dt_model.fit(X_train, y_train)\n",
    "y_pred_dt = dt_model.predict(X_test)"
   ]
  },
  {
   "cell_type": "markdown",
   "metadata": {},
   "source": [
    "### Model Evaluation"
   ]
  },
  {
   "cell_type": "markdown",
   "metadata": {},
   "source": [
    "KKN Evaluation"
   ]
  },
  {
   "cell_type": "code",
   "execution_count": 19,
   "metadata": {},
   "outputs": [],
   "source": [
    "mse_knn = mean_squared_error(y_test, y_pred_knn)\n",
    "mae_knn = mean_absolute_error(y_test, y_pred_knn)\n",
    "r2_knn = r2_score(y_test, y_pred_knn)"
   ]
  },
  {
   "cell_type": "markdown",
   "metadata": {},
   "source": [
    "Train Decision Tree Evaluation"
   ]
  },
  {
   "cell_type": "code",
   "execution_count": 20,
   "metadata": {},
   "outputs": [],
   "source": [
    "mse_dt = mean_squared_error(y_test, y_pred_dt)\n",
    "mae_dt = mean_absolute_error(y_test, y_pred_dt)\n",
    "r2_dt = r2_score(y_test, y_pred_dt)"
   ]
  },
  {
   "cell_type": "markdown",
   "metadata": {},
   "source": [
    "Manampilkan Hasil Evalution"
   ]
  },
  {
   "cell_type": "code",
   "execution_count": 21,
   "metadata": {},
   "outputs": [
    {
     "name": "stdout",
     "output_type": "stream",
     "text": [
      "KNN Model - MSE: 0.2639922357992481, MAE: 0.3705500022 , R2: 0.05179374902056899\n",
      "Decision Tree Model - MSE: 0.30905076751490695, MAE: 0.45378753424999996, R2: -0.11004730400658369\n"
     ]
    }
   ],
   "source": [
    "print(f'KNN Model - MSE: {mse_knn}, MAE: {mae_knn} , R2: {r2_knn}')\n",
    "print(f'Decision Tree Model - MSE: {mse_dt}, MAE: {mae_dt}, R2: {r2_dt}')"
   ]
  },
  {
   "cell_type": "markdown",
   "metadata": {},
   "source": [
    "Visualisasi Bar Plot"
   ]
  },
  {
   "cell_type": "code",
   "execution_count": 22,
   "metadata": {},
   "outputs": [
    {
     "data": {
      "image/png": "[encoded data removed]",
      "text/plain": [
       "<Figure size 1800x600 with 3 Axes>"
      ]
     },
     "metadata": {},
     "output_type": "display_data"
    }
   ],
   "source": [
    "# Data Metrik\n",
    "metrics = {\n",
    "    'Model': ['KNN', 'Decision Tree'],\n",
    "    'MSE': [mse_knn, mse_dt],\n",
    "    'MAE': [mae_knn, mae_dt],\n",
    "    'R2': [r2_knn, r2_dt]\n",
    "}\n",
    "\n",
    "metrics_df = pd.DataFrame(metrics)\n",
    "\n",
    "# Plot MSE, MAE, dan R²\n",
    "fig, axes = plt.subplots(1, 3, figsize=(18, 6))\n",
    "\n",
    "# Plot MSE\n",
    "axes[0].bar(metrics_df['Model'], metrics_df['MSE'], color=['blue', 'green'])\n",
    "axes[0].set_xlabel('Model')\n",
    "axes[0].set_ylabel('MSE')\n",
    "axes[0].set_title('Mean Squared Error (MSE)')\n",
    "\n",
    "# Plot MAE\n",
    "axes[1].bar(metrics_df['Model'], metrics_df['MAE'], color=['blue', 'green'])\n",
    "axes[1].set_xlabel('Model')\n",
    "axes[1].set_ylabel('MAE')\n",
    "axes[1].set_title('Mean Absolute Error (MAE)')\n",
    "\n",
    "# Plot R²\n",
    "axes[2].bar(metrics_df['Model'], metrics_df['R2'], color=['blue', 'green'])\n",
    "axes[2].set_xlabel('Model')\n",
    "axes[2].set_ylabel('R²')\n",
    "axes[2].set_title('R-squared (R²)')\n",
    "\n",
    "# Menampilkan plot\n",
    "plt.tight_layout()\n",
    "plt.show()"
   ]
  },
  {
   "cell_type": "markdown",
   "metadata": {},
   "source": [
    "Visualisasi  Scatter Plot"
   ]
  },
  {
   "cell_type": "code",
   "execution_count": 23,
   "metadata": {},
   "outputs": [
    {
     "data": {
      "image/png": "[encoded data removed]",
      "text/plain": [
       "<Figure size 1000x500 with 1 Axes>"
      ]
     },
     "metadata": {},
     "output_type": "display_data"
    }
   ],
   "source": [
    "plt.figure(figsize=(10, 5))\n",
    "sns.scatterplot(x=y_test, y=y_pred_knn, label='KNN Predictions')\n",
    "sns.scatterplot(x=y_test, y=y_pred_dt, label='Decision Tree Predictions', color='r')\n",
    "plt.xlabel('Actual Values')\n",
    "plt.ylabel('Predicted Values')\n",
    "plt.legend()\n",
    "plt.title('Model Predictions vs Actual Values')\n",
    "plt.show()"
   ]
  },
  {
   "cell_type": "markdown",
   "metadata": {},
   "source": [
    "Mengeksplorasi feature importances Decision Tree"
   ]
  },
  {
   "cell_type": "code",
   "execution_count": 24,
   "metadata": {},
   "outputs": [
    {
     "data": {
      "image/png": "[encoded data removed]",
      "text/plain": [
       "<Figure size 1000x600 with 1 Axes>"
      ]
     },
     "metadata": {},
     "output_type": "display_data"
    }
   ],
   "source": [
    "if hasattr(dt_model, 'feature_importances_'):\n",
    "    feature_importances = dt_model.feature_importances_\n",
    "    importance_df = pd.DataFrame({\n",
    "        'Feature': features,\n",
    "        'Importance': feature_importances\n",
    "    }).sort_values(by='Importance', ascending=False)\n",
    "    \n",
    "    # Plot feature importances\n",
    "    plt.figure(figsize=(10, 6))\n",
    "    ax = sns.barplot(x='Importance', y='Feature', data=importance_df, palette='viridis')\n",
    "    plt.title('Feature Importances from Decision Tree')\n",
    "    plt.xlabel('Importance')\n",
    "    plt.ylabel('Feature')\n",
    "    \n",
    "    # Menambahkan nilai angka pada setiap bar\n",
    "    for p in ax.patches:\n",
    "        ax.annotate(format(p.get_width(), '.4f'), \n",
    "                    (p.get_width() + 0.02, p.get_y() + p.get_height() / 2),\n",
    "                    ha='center', va='center',\n",
    "                    xytext=(5, 0), textcoords='offset points')\n",
    "    \n",
    "    plt.show()"
   ]
  },
  {
   "cell_type": "code",
   "execution_count": 25,
   "metadata": {},
   "outputs": [
    {
     "name": "stdout",
     "output_type": "stream",
     "text": [
      "Best Parameters for KNN: {'n_neighbors': 3, 'p': 1}\n",
      "Best Score for KNN: 0.26137555827081266\n",
      "Best Parameters for Decision Tree: {'max_depth': 20, 'min_samples_leaf': 1, 'min_samples_split': 2}\n",
      "Best Score for Decision Tree: 0.31585257375332715\n"
     ]
    }
   ],
   "source": [
    "\n",
    "\n",
    "# Tuning Hyperparameter untuk KNN\n",
    "param_grid_knn = {\n",
    "    'n_neighbors': [3, 5, 7, 9],\n",
    "    'p': [1, 2]  # p=1 untuk Manhattan, p=2 untuk Euclidean\n",
    "}\n",
    "\n",
    "grid_search_knn = GridSearchCV(KNeighborsRegressor(), param_grid_knn, cv=5, scoring='neg_mean_squared_error')\n",
    "grid_search_knn.fit(X_train, y_train)\n",
    "\n",
    "print(\"Best Parameters for KNN:\", grid_search_knn.best_params_)\n",
    "print(\"Best Score for KNN:\", -grid_search_knn.best_score_)\n",
    "\n",
    "# Tuning Hyperparameter untuk Decision Tree\n",
    "param_grid_dt = {\n",
    "    'max_depth': [None, 10, 20, 30],\n",
    "    'min_samples_split': [2, 5, 10],\n",
    "    'min_samples_leaf': [1, 2, 4]\n",
    "}\n",
    "\n",
    "grid_search_dt = GridSearchCV(DecisionTreeRegressor(), param_grid_dt, cv=5, scoring='neg_mean_squared_error')\n",
    "grid_search_dt.fit(X_train, y_train)\n",
    "\n",
    "print(\"Best Parameters for Decision Tree:\", grid_search_dt.best_params_)\n",
    "print(\"Best Score for Decision Tree:\", -grid_search_dt.best_score_)\n"
   ]
  },
  {
   "cell_type": "markdown",
   "metadata": {},
   "source": [
    "## Diskusi Hasil\n",
    "Pada penelitian ini, kami menggunakan dua algoritma klasifikasi, yaitu SK-Nearest Neighbors (KNN) dan Decision Tree, untuk memprediksi faktor-faktor yang mempengaruhi kebahagiaan di kawasan ASEAN. Berikut adalah hasil evaluasi dan diskusinya:\n",
    "\n",
    "\n"
   ]
  },
  {
   "cell_type": "markdown",
   "metadata": {},
   "source": [
    "### Korelasi dari fitur dan skor kebahagiaan\n",
    "Daftar korelasi menunjukkan seberapa kuat hubungan antara setiap fitur dan happiness_score. Nilai korelasi berkisar antara -1 hingga 1:\n",
    "- 1: Korelasi positif sempurna\n",
    "- 0: Tidak ada korelasi\n",
    "- -1: Korelasi negatif sempurna\n",
    "\n",
    "Hasil korelasi adalah:\n",
    "\n",
    "1. happiness_score: 1.000000\n",
    "Ini adalah nilai korelasi diri sendiri, yang selalu 1.\n",
    "2. gdp_per_capita: 0.678488\n",
    "Korelasi positif sedang-tinggi, menunjukkan bahwa semakin tinggi PDB per kapita, semakin tinggi skor kebahagiaan.\n",
    "3. healthy_life_expectancy: 0.566855\n",
    "Korelasi positif sedang, menunjukkan bahwa harapan hidup sehat yang lebih tinggi berhubungan dengan skor kebahagiaan yang lebih tinggi.\n",
    "4. social_support: 0.487133\n",
    "Korelasi positif sedang, menunjukkan bahwa dukungan sosial yang lebih besar berhubungan dengan skor kebahagiaan yang lebih tinggi.\n",
    "5. perceptions_of_corruption: 0.433528\n",
    "Korelasi positif sedang, menunjukkan bahwa persepsi terhadap korupsi yang lebih rendah berhubungan dengan skor kebahagiaan yang lebih tinggi.\n",
    "6. freedom_to_make_life_choices: 0.172359\n",
    "Korelasi positif rendah, menunjukkan hubungan yang lemah antara kebebasan membuat pilihan hidup dan skor kebahagiaan.\n",
    "7. year: 0.029920\n",
    "Korelasi sangat rendah, menunjukkan bahwa tahun tidak memiliki hubungan yang signifikan dengan skor kebahagiaan.\n",
    "8. generosity: -0.415233\n",
    "Korelasi negatif sedang, menunjukkan bahwa tingkat kemurahan yang lebih tinggi berhubungan dengan skor kebahagiaan yang lebih rendah. Ini mungkin tampak kontra-intuitif dan mungkin memerlukan analisis lebih lanjut untuk memahami konteksnya."
   ]
  },
  {
   "cell_type": "markdown",
   "metadata": {},
   "source": [
    "###  Mean Squared Error, Mean Absolute Error, dan R2 Score"
   ]
  },
  {
   "cell_type": "markdown",
   "metadata": {},
   "source": [
    "KNN Model\n",
    "- MSE (Mean Squared Error): 0.264\n",
    "- MAE (Mean Absolute Error): 0.371\n",
    "- R² (R-squared): 0.052"
   ]
  },
  {
   "cell_type": "markdown",
   "metadata": {},
   "source": [
    "Decision Tree Model\n",
    "- MSE (Mean Squared Error): 0.309\n",
    "- MAE (Mean Absolute Error): 0.454\n",
    "- R² (R-squared): -0.110"
   ]
  },
  {
   "cell_type": "markdown",
   "metadata": {},
   "source": [
    "### Tuning Hyperparameter"
   ]
  },
  {
   "cell_type": "markdown",
   "metadata": {},
   "source": [
    "KKN\n",
    "- Best Parameters for KNN: {'n_neighbors': 3, 'p': 1}\n",
    "    1. n_neighbors: 3: Model KNN yang optimal menggunakan 3 tetangga terdekat.\n",
    "    2. p: 1: Model KNN menggunakan metrik Manhattan (jarak absolut) untuk menghitung jarak antar titik.\n",
    "- Best Score for KNN: 0.2614\n",
    "Ini adalah nilai R² terbaik yang dicapai oleh model KNN dengan parameter yang dioptimalkan. Nilai ini menunjukkan bahwa model KNN yang dioptimalkan dapat menjelaskan sekitar 26.14% dari variabilitas data. Skor ini lebih baik dibandingkan dengan skor sebelumnya yang tidak dioptimalkan."
   ]
  },
  {
   "cell_type": "markdown",
   "metadata": {},
   "source": [
    " Decision Tree"
   ]
  },
  {
   "cell_type": "markdown",
   "metadata": {},
   "source": [
    "- Best Parameters for Decision Tree: {'max_depth': None, 'min_samples_leaf': 1, 'min_samples_split': 2}\n",
    "    1. max_depth: None: Pohon keputusan dapat tumbuh tanpa batas kedalaman, artinya tidak ada batasan pada kedalaman pohon.\n",
    "    2. min_samples_split: 2: Model Decision Tree membagi node dengan minimum dua sampel.\n",
    "    3. min_samples_leaf: 1: Model Decision Tree memerlukan satu sampel minimum untuk menjadi daun.\n",
    "\n",
    "- Best Score for Decision Tree: 0.3128\n",
    "Ini adalah nilai R² terbaik yang dicapai oleh model Decision Tree dengan parameter yang dioptimalkan. Nilai ini menunjukkan bahwa model Decision Tree yang dioptimalkan dapat menjelaskan sekitar 31.28% dari variabilitas data. Skor ini lebih baik dibandingkan dengan skor sebelumnya yang tidak dioptimalkan."
   ]
  },
  {
   "cell_type": "markdown",
   "metadata": {},
   "source": [
    "## **Kesimpulan**"
   ]
  },
  {
   "cell_type": "markdown",
   "metadata": {},
   "source": [
    "- **gdp_per_capita** merupakan faktor utama yang memepengaruhi skor kebahagian disuatu negara, diikuti healthy_life_expectancy, social_support, perceptions_of_corruption, dan freedom_to_make_life_choices\n",
    "- **Model KNN memiliki performa yang lebih baik dibandingkan dengan Decision Tree dalam hal MSE, MAE, dan R².** KNN memiliki kesalahan prediksi yang lebih rendah dan memberikan penjelasan yang lebih baik tentang variabilitas data dibandingkan dengan Decision Tree. Decision Tree menunjukkan performa yang kurang baik, dengan kesalahan yang lebih tinggi dan R² negatif, yang menunjukkan bahwa model ini kurang efektif untuk data ini.\n",
    "- **Decision Tree menunjukkan performa yang sedikit lebih baik dibandingkan dengan KNN dalam hal skor R² setelah tuning hyperparameter.** Ini berarti Decision Tree, dengan parameter yang dioptimalkan, dapat menjelaskan lebih banyak variabilitas dalam data dibandingkan dengan KNN."
   ]
  }
 ],
 "metadata": {
  "kernelspec": {
   "display_name": "base",
   "language": "python",
   "name": "python3"
  },
  "language_info": {
   "codemirror_mode": {
    "name": "ipython",
    "version": 3
   },
   "file_extension": ".py",
   "mimetype": "text/x-python",
   "name": "python",
   "nbconvert_exporter": "python",
   "pygments_lexer": "ipython3",
   "version": "3.11.7"
  }
 },
 "nbformat": 4,
 "nbformat_minor": 2
}
